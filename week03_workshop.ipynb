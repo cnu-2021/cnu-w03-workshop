{
 "cells": [
  {
   "cell_type": "markdown",
   "metadata": {},
   "source": [
    "# Week 3 workshop: Errors and exceptions in Python\n",
    "\n",
    "A **bug** is simply an error or a mistake in your code, which makes it fail and/or produce the wrong result. Debugging is the process of finding and correcting bugs, by inspecting the output of the code under carefully chosen inputs and conditions.\n",
    "\n",
    "The task this week is all about understanding **error traces**, the error messages produced by Python when something goes wrong. Although they can be scary at first, they actually provide very useful information to help you fix your code.\n",
    "\n",
    "This week, you will work in small groups. Choose **one person** amongst yourselves to share their screens, run the code in the Jupyter notebook, and take notes if you like. Don't forget to push all changes back to GitHub at the end of the session so the whole group can access them.\n",
    "\n",
    "## Errors and exceptions\n",
    "\n",
    "You have probably already encountered a few **runtime errors** -- this is when Python fails to run your code for any reason, and gives you a short message to explain what went wrong. It is essential to know how to interpret these to debug your code and troubleshoot problems.\n",
    "\n",
    "Here is an example of a runtime error -- run the cell below:"
   ]
  },
  {
   "cell_type": "code",
   "execution_count": null,
   "metadata": {},
   "outputs": [],
   "source": [
    "my_string = 'Hello world'\n",
    "if my_string[0] == 'H'\n",
    "    print(my_string)"
   ]
  },
  {
   "cell_type": "markdown",
   "metadata": {},
   "source": [
    "Can you spot the error?\n",
    "\n",
    "- The first line of the error message indicates the *file* where the error happened -- this is useful when working on projects with many different Python scripts and custom modules, not so much for us here on Jupyter.\n",
    "\n",
    "- Note that the **line number** also appears in the error message. You can see line numbers in Jupyter notebooks by clicking <kbd>View</kbd> > <kbd>Toggle Line Numbers</kbd> in the menu bar at the top of the page.\n",
    "\n",
    "- The second line repeats the line where the error was detected, and we can check that this is indeed line 2 in our cell, as indicated previously.\n",
    "\n",
    "- The third line only has a `^` character. This is simply an **arrow**, which indicates where the error was detected, on the line printed above. Here, the `^` sits just after the last character in the `if` statement; the colon `:` is missing.\n",
    "\n",
    "- Finally, the very last line indicates two things:\n",
    "    * the **type** of error -- here, a `SyntaxError`. Like everything else in Python, errors and exceptions are also objects with types.\n",
    "    * the **error message**, -- here, `invalid syntax`. The error message tries to give you more specific information about what the issue is.\n",
    "\n",
    "*Syntax errors* are what they sound like -- usually typos. They are detected even before the code is executed. They occur when the code you wrote is not valid Python syntax; in the example above, as pointed out by the little arrow `^`, we forgot the colon `:` at the end of the `if` statement.\n",
    "\n",
    "Here is another example -- a `TypeError`:"
   ]
  },
  {
   "cell_type": "code",
   "execution_count": null,
   "metadata": {},
   "outputs": [],
   "source": [
    "my_int = 4\n",
    "print(my_int[2])"
   ]
  },
  {
   "cell_type": "markdown",
   "metadata": {},
   "source": [
    "Here, the pointing arrow is on the side `---->`, as it's not really obvious where exactly on line 2 Python should point -- but it still tells you that the error is on line 2. The error message explains that we are trying to subscript an `int` object -- that is, to index an integer, something which is not a sequence or container.\n",
    "\n",
    "Simply speaking, when an **error** is detected in your code, an **exception** is raised, which interrupts execution and gives you some information about what went wrong. There are many built-in exception types in Python.\n",
    "\n",
    "## Your task\n",
    "\n",
    "Run the code cells to see examples of different error **traces**. For each example, determine the **type** of error, **where** it happened, and try to understand what the error message is saying. Use this information to **debug** the code together.\n",
    "\n",
    "Pay attention to all the different parts of the error trace, they're all useful information!\n",
    "\n",
    "You can consult [the documentation which lists the different exception types in Python](https://docs.python.org/3/library/exceptions.html#bltin-exceptions). There is a Markdown cell under each code cell for you to take notes if you like."
   ]
  },
  {
   "cell_type": "code",
   "execution_count": null,
   "metadata": {},
   "outputs": [],
   "source": [
    "my_list = [1, 2, 3, 4]\n",
    "print(my_list[4])"
   ]
  },
  {
   "cell_type": "markdown",
   "metadata": {},
   "source": [
    "Notes\n",
    "\n",
    "---"
   ]
  },
  {
   "cell_type": "code",
   "execution_count": null,
   "metadata": {},
   "outputs": [],
   "source": [
    "my_list = [1, 2, 3, 4]\n",
    "my_other_list = [5, 6, 7]\n",
    "print(my_list * my_other_list)"
   ]
  },
  {
   "cell_type": "markdown",
   "metadata": {},
   "source": [
    "Notes\n",
    "\n",
    "---"
   ]
  },
  {
   "cell_type": "code",
   "execution_count": null,
   "metadata": {},
   "outputs": [],
   "source": [
    "my_list = [1, 2, 3, 4]\n",
    "print(my_ist)"
   ]
  },
  {
   "cell_type": "markdown",
   "metadata": {},
   "source": [
    "Notes\n",
    "\n",
    "---"
   ]
  },
  {
   "cell_type": "code",
   "execution_count": null,
   "metadata": {},
   "outputs": [],
   "source": [
    "import numpy as np\n",
    "\n",
    "print(np.sin((3 * np.pi) / (2)) * 5 * np.cos(-(2 * np.pi))"
   ]
  },
  {
   "cell_type": "markdown",
   "metadata": {},
   "source": [
    "Notes\n",
    "\n",
    "*hint: `EOF` stands for `End Of File`*\n",
    "\n",
    "---"
   ]
  },
  {
   "cell_type": "code",
   "execution_count": null,
   "metadata": {},
   "outputs": [],
   "source": [
    "def my_func(x):\n",
    "    return x ** 2\n",
    "\n",
    "print(my_func('Why hello there'))"
   ]
  },
  {
   "cell_type": "markdown",
   "metadata": {},
   "source": [
    "Notes\n",
    "\n",
    "---"
   ]
  },
  {
   "cell_type": "code",
   "execution_count": null,
   "metadata": {},
   "outputs": [],
   "source": [
    "import numpy as np\n",
    "\n",
    "A = np.zeros([4, 4])\n",
    "\n",
    "for i in range(4):\n",
    "    for j in range(4):\n",
    "        element = i ** j\n",
    "         A[i, j] = element\n",
    "   print(f'Row {i} is finished')\n",
    "\n",
    "print(A)"
   ]
  },
  {
   "cell_type": "markdown",
   "metadata": {},
   "source": [
    "Notes\n",
    "\n",
    "---"
   ]
  },
  {
   "cell_type": "code",
   "execution_count": null,
   "metadata": {
    "scrolled": true
   },
   "outputs": [],
   "source": [
    "a = int('432')\n",
    "b = int('hello')\n",
    "c = int('1.5')"
   ]
  },
  {
   "cell_type": "markdown",
   "metadata": {},
   "source": [
    "Notes\n",
    "\n",
    "---"
   ]
  },
  {
   "cell_type": "code",
   "execution_count": null,
   "metadata": {},
   "outputs": [],
   "source": [
    "import numpy as np\n",
    "\n",
    "coords = [8.2, -1.1]\n",
    "mag = np.sqrt(((coords[0]**2) + (coords[1]**2))\n",
    "print(mag)"
   ]
  },
  {
   "cell_type": "markdown",
   "metadata": {},
   "source": [
    "Notes\n",
    "\n",
    "---"
   ]
  },
  {
   "cell_type": "code",
   "execution_count": null,
   "metadata": {},
   "outputs": [],
   "source": [
    "m = 144\n",
    "n = 6\n",
    "q = m // n\n",
    "r = m % n\n",
    "\n",
    "print(q / r)"
   ]
  },
  {
   "cell_type": "markdown",
   "metadata": {},
   "source": [
    "Notes\n",
    "\n",
    "---"
   ]
  },
  {
   "cell_type": "code",
   "execution_count": null,
   "metadata": {},
   "outputs": [],
   "source": [
    "def find_divisors(nums, n):\n",
    "    '''\n",
    "    Returns a list of all divisors of n\n",
    "    present in the list nums.\n",
    "    '''\n",
    "    divisors = []\n",
    "    for i in range(nums):\n",
    "        # Check if n is divisible by i\n",
    "        if n // i = 0:\n",
    "            divisor.apend(n)\n",
    "    \n",
    "    print(divisors)\n",
    "\n",
    "# Test example: result should be [1, 1, 1, 1] (no matter the choice of n)\n",
    "divisors = find_divisors([1, 1, 1, 1], 97)\n",
    "print(f'Result: {divisors}\\n')\n",
    "\n",
    "# Test example: result should be [1, 2, 3, 4, 6]\n",
    "# divisors = find_divisors([1, 2, 3, 4, 5, 6, 7, 8], 12)\n",
    "# print(f'Result: {divisors}\\n')"
   ]
  },
  {
   "cell_type": "markdown",
   "metadata": {},
   "source": [
    "Notes\n",
    "\n",
    "*hint: there are also bugs in this code which won't give a runtime error, but will simply give the wrong result. Can you find and fix them?*\n",
    "\n",
    "---"
   ]
  },
  {
   "cell_type": "markdown",
   "metadata": {},
   "source": [
    "### Further work\n",
    "\n",
    "If you still have time at the end of the workshop, try to come up with other code examples which trigger certain types of error -- particularly `TypeError` and `ValueError`, as they tend to be the trickier ones."
   ]
  },
  {
   "cell_type": "code",
   "execution_count": null,
   "metadata": {},
   "outputs": [],
   "source": []
  },
  {
   "cell_type": "code",
   "execution_count": null,
   "metadata": {},
   "outputs": [],
   "source": []
  },
  {
   "cell_type": "code",
   "execution_count": null,
   "metadata": {},
   "outputs": [],
   "source": []
  },
  {
   "cell_type": "code",
   "execution_count": null,
   "metadata": {},
   "outputs": [],
   "source": []
  }
 ],
 "metadata": {
  "kernelspec": {
   "display_name": "Python 3",
   "language": "python",
   "name": "python3"
  },
  "language_info": {
   "codemirror_mode": {
    "name": "ipython",
    "version": 3
   },
   "file_extension": ".py",
   "mimetype": "text/x-python",
   "name": "python",
   "nbconvert_exporter": "python",
   "pygments_lexer": "ipython3",
   "version": "3.7.6"
  }
 },
 "nbformat": 4,
 "nbformat_minor": 4
}
